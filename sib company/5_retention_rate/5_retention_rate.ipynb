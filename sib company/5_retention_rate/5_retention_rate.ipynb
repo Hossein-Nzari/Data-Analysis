{
  "nbformat": 4,
  "nbformat_minor": 5,
  "metadata": {
    "kernelspec": {
      "name": "python3",
      "display_name": "Python 3.7.4 64-bit ('qenv': venv)"
    },
    "language_info": {
      "codemirror_mode": {
        "name": "ipython",
        "version": 3
      },
      "file_extension": ".py",
      "mimetype": "text/x-python",
      "name": "python",
      "nbconvert_exporter": "python",
      "pygments_lexer": "ipython3",
      "version": "3.7.4"
    },
    "interpreter": {
      "hash": "a1a46404003b1888471f66733c8ff43ecbbd22069e04669a0d47e7a2f84d0bb4"
    },
    "colab": {
      "name": "retention_rate_answers.ipynb",
      "provenance": [],
      "collapsed_sections": []
    }
  },
  "cells": [
    {
      "cell_type": "markdown",
      "source": [
        "<h1 align=center style=\"line-height:200%;font-family:vazir;color:#0099cc\">\n",
        "<font face=\"vazir\" color=\"#0099cc\">\n",
        "تحلیل ماندگاری مشتری\n",
        "</font>\n",
        "</h1>"
      ],
      "metadata": {
        "id": "bhHDAqXIhCnc"
      }
    },
    {
      "cell_type": "markdown",
      "source": [
        "<br>\n",
        "<div dir=rtl id=\"start\" style=\"direction:rtl;line-height:200%;\">\n",
        "\t<font face=\"vazir\" size=4>\n",
        "        <h4>کتاب‌خانه‌ها</h4>\n",
        "                <br>\n",
        "       ابتدا کتاب‌خانه‌های مورد نیاز خود را اضافه کنید. \n",
        "</div>"
      ],
      "metadata": {
        "id": "EHzol04NhCng"
      }
    },
    {
      "cell_type": "markdown",
      "source": [
        "<h2 align=right style=\"line-height:200%;font-family:vazir;color:#0099cc\">\n",
        "<font face=\"vazir\" color=\"#0099cc\">\n",
        "    توضیحات اولیه\n",
        "</font>\n",
        "</h2>\n",
        "\n",
        "<p dir=rtl style=\"direction: rtl;text-align: right;line-height:200%;font-family:vazir;font-size:medium\">\n",
        "<font face=\"vazir\" size=3>\n",
        "    برای جذب یک مشتری جدید برای شرکت، تیم بازاریابی نیاز به استفاده از روش‌های مختلف تبلیغات و ارتباط گرفتن با مشتریان دارد که خود امری هزینه‌بر است. درنتیجه، آن‌ها علاقه‌مند هستند که تا حد امکان مشتریان فعلی خود را حفظ بکنند و آن‌ها را از دست ندهند. به همین منظور،‌آن‌ها از شما درخواست دارند که نمودار ماندگاری مشتریان را همانند شکل زیر برای ‌آن‌ها رسم کنید.\n",
        "</font>\n",
        "</p>\n",
        "<div style=\"text-align:center;\"><img src=\"retention_rate_b.jpg\"></div>\n",
        "\n",
        "\n",
        "<p dir=rtl style=\"direction: rtl;text-align: right;line-height:200%;font-family:vazir;font-size:medium\">\n",
        "<font face=\"vazir\" size=3>\n",
        "در این نمودار، محور عمودی نشان‌‌دهنده ماهی است که یک مشتری برای اولین بار با شرکت معامله کرده‌است و محور افقی نشان‌ می‌دهد که چند درصد مشتریان جدید در ماه‌های بعد از اولین معامله، مشتری شرکت می‌مانند و حدقل یک فاکتور در ماه با شرکت دارند.\n",
        "</font>\n",
        "</p>\n",
        "\n",
        "<p dir=rtl style=\"direction: rtl;text-align: right;line-height:200%;font-family:vazir;font-size:medium\">\n",
        "<font face=\"vazir\" size=3>\n",
        "به عنوان مثال در شکل بالا، در ماه اول (اولین ماه از بالا در محور عمودی)، تعدادی مشتری جدید با شرکت اولین تراکنش خود را داشته‌اند که ۳۵٪ از آن‌ها اولین ماه بعد از این امر نیز با شرکت حداقل یک معامله کرده‌اند و ۳۳٪ نیز در دو ماه بعد، حداقل یک فاکتور داشته‌اند.</font>\n",
        "</p>\n",
        "\n",
        "\n",
        "<p dir=rtl style=\"direction: rtl;text-align: right;line-height:200%;font-family:vazir;font-size:medium\">\n",
        "<font face=\"vazir\" size=3>\n",
        "    برای خروجی این مرحله، بایستی که نمودار خود را در متغیر <code>fig</code> ذخیره کنید.\n",
        "    <br>\n",
        "    نموداری که در متغیر <code>fig</code> ذخیره می‌کنید، باید دقیقا مانند عکس بالا باشد.\n",
        "    <br>\n",
        "   در حقیقت شما در این تمرین، جواب را در اختیار دارید، ولی باید تلاش کنید با استفاده از ابزارهایی که آموختید، آن را باز تولید کنید.\n",
        "</font>\n",
        "</p>"
      ],
      "metadata": {}
    },
    {
      "cell_type": "markdown",
      "source": [
        "   \n",
        "<h2 align=right style=\"line-height:200%;font-family:vazir;color:#0099cc\">\n",
        "<font face=\"vazir\" color=\"#0099cc\">\n",
        "    کتابخانه‌ها\n",
        "</font>\n",
        "</h2>\n",
        "\n",
        "<p dir=rtl style=\"direction: rtl;text-align: right;line-height:200%;font-family:vazir;font-size:medium\">\n",
        "<font face=\"vazir\" size=3>\n",
        "       ابتدا کتاب‌خانه‌های مورد نیاز خود را اضافه کنید.    \n",
        "</font>\n",
        "</p>"
      ],
      "metadata": {}
    },
    {
      "cell_type": "code",
      "execution_count": null,
      "source": [
        "# import libraries"
      ],
      "outputs": [],
      "metadata": {
        "id": "hYR8CbajhCnk"
      }
    },
    {
      "cell_type": "markdown",
      "source": [
        "\n",
        "<h2 align=right style=\"line-height:200%;font-family:vazir;color:#0099cc\">\n",
        "<font face=\"vazir\" color=\"#0099cc\">\n",
        "    خواندن مجموعه داده\n",
        "</font>\n",
        "</h2>\n",
        "\n",
        "<p dir=rtl style=\"direction: rtl;text-align: right;line-height:200%;font-family:vazir;font-size:medium\">\n",
        "<font face=\"vazir\" size=3>\n",
        "    فایل پیش‌پردازش‌شده را بخوانید.\n",
        "</font>\n",
        "</p>"
      ],
      "metadata": {
        "id": "8MYP8HvJhCnl"
      }
    },
    {
      "cell_type": "code",
      "execution_count": null,
      "source": [
        "# read the preprocessed dataset\n"
      ],
      "outputs": [],
      "metadata": {
        "colab": {
          "base_uri": "https://localhost:8080/",
          "height": 289
        },
        "id": "w8ZPBWwMhCnl",
        "outputId": "6c0ae112-2644-4c30-e3ad-3de2a2137c3f"
      }
    },
    {
      "cell_type": "markdown",
      "source": [
        "\n",
        "<h2 align=right style=\"line-height:200%;font-family:vazir;color:#0099cc\">\n",
        "<font face=\"vazir\" color=\"#0099cc\">\n",
        "نقشه حرارتی\n",
        "</font>\n",
        "</h2>\n",
        "\n",
        "<p dir=rtl style=\"direction: rtl;text-align: right;line-height:200%;font-family:vazir;font-size:medium\">\n",
        "<font face=\"vazir\" size=3>\n",
        "نقشه حرارتی را پیش از این هم در تمرین مربوط به شرکت یونیدرو دیدید. این بار از پارامترهای دیگر آن هم استفاده خواهیم کرد.\n",
        "<br>\n",
        "<br>\n",
        "پارامتر <code>annot</code> مخفف کلمه annotation به معنی یادداشت می‌باشد. با <code>True</code> کردن این پارامتر، عدد خانه‌ها روی آنها نمایش داده می‌شود.\n",
        "<br>\n",
        "پارامترهای <code>vmin</code> و <code>vmax</code> محدوده اعدادی که تابع نگاشت رنگ روی آنها نگاشت انجام می‌دهد را تعیین می‌کند. در حالت پیش‌فرض، این بازه از روی اعداد برداشته می‌شود اما با اختصاص مقادیر به آنها، اعدادی که خارج از بازه مشخص شده قرار می‌گیرند،‌ رنگی معادل\n",
        " اعداد انتهای بازه خواهد داشت.\n",
        " <br>\n",
        " \n",
        "\n",
        "</font>\n",
        "</p>\n",
        "\n",
        "<h2 align=right style=\"line-height:200%;font-family:vazir;color:#0099cc\">\n",
        "<font face=\"vazir\" color=\"#0099cc\">\n",
        "فرمت رشته\n",
        "</font>\n",
        "</h2>\n",
        "\n",
        "<p dir=rtl style=\"direction: rtl;text-align: right;line-height:200%;font-family:vazir;font-size:medium\">\n",
        "<font face=\"vazir\" size=3>\n",
        "موضوع دیگری که در این سوال با آن مواجه می‌شوید، فرمت رشته نمایشی بر روی خانه‌های نقشه حرارتی می‌باشد.\n",
        "<br>\n",
        "با پارامتر <code>fmt</code> در متد <code>heatmap</code> می‌توان فرمت نمایش اعداد را مشخص کرد. این کار با استفاده از کد فرمت رشته مشخص می‌شود. کد f مشخص می‌کند که اعداد تا چند رقم اعشار نمایش داده شوند. برای آشنایی با دیگر کدهای فرمت رشته، \n",
        "<a href=\"url\">این لینک</a>\n",
        "ببینید.\n",
        " \n",
        "\n",
        "</font>\n",
        "</p>\n",
        "\n",
        "\n",
        "<h2 align=right style=\"line-height:200%;font-family:vazir;color:#0099cc\">\n",
        "<font face=\"vazir\" color=\"#0099cc\">\n",
        "ویژگی‌های نمودار</font>\n",
        "</h2>\n",
        "\n",
        "<p dir=rtl style=\"direction: rtl;text-align: right;line-height:200%;font-family:vazir;font-size:medium\">\n",
        "<table dir=rtl align = center>\n",
        "\n",
        "<tr>\n",
        "<th><font face=\"vazir\" size=3>ویژگی</th>\n",
        "<th><font face=\"vazir\" size=3>مقدار</th>\n",
        "</tr>\n",
        "\n",
        "<tr>\n",
        "<td><font face=\"vazir\" size=3>اندازه شکل</td>\n",
        "<td><font face=\"vazir\" size=3>۱۵ در ۸ اینچ</td>\n",
        "</tr>\n",
        "\n",
        "<tr>\n",
        "<td><font face=\"vazir\" size=3>بازه اعداد برای تابع نگاشت رنگ</td>\n",
        "<td><font face=\"vazir\" size=3>صفر تا پنجاه</td>\n",
        "</tr>\n",
        "\n",
        "\n",
        "<tr>\n",
        "<td><font face=\"vazir\" size=3>کد فرمت مورد استفاده</td>\n",
        "<td><font face=\"vazir\" size=3>0f.</td>\n",
        "</tr>\n",
        "\n",
        "\n",
        "\n",
        "<tr>\n",
        "<td><font face=\"vazir\" size=3>تابع نگاشت رنگ</td>\n",
        "<td><font face=\"vazir\" size=3>BuGn</td>\n",
        "</tr>\n",
        "\n",
        "</table>\n",
        "</p>\n"
      ],
      "metadata": {}
    },
    {
      "cell_type": "code",
      "execution_count": null,
      "source": [
        "\n",
        "fig, ax = None # to do"
      ],
      "outputs": [],
      "metadata": {
        "colab": {
          "base_uri": "https://localhost:8080/",
          "height": 513
        },
        "id": "GD041e4rhCnp",
        "outputId": "0596b365-7419-4a29-de12-576f5cb4dda6"
      }
    },
    {
      "cell_type": "markdown",
      "source": [
        "<h2 align=right style=\"line-height:200%;font-family:vazir;color:#0099cc\">\n",
        "<font face=\"vazir\" color=\"#0099cc\">\n",
        "سلول جواب‌ساز    \n",
        "</font>\n",
        "</h2>\n"
      ],
      "metadata": {
        "id": "za7oOeZahCnp"
      }
    },
    {
      "cell_type": "code",
      "execution_count": null,
      "source": [
        "# export your results\n",
        "\n",
        "import zipfile\n",
        "import joblib\n",
        "\n",
        "joblib.dump(fig,\"fig\")\n",
        "\n",
        "def compress(file_names):\n",
        "    print(\"File Paths:\")\n",
        "    print(file_names)\n",
        "    # Select the compression mode ZIP_DEFLATED for compression\n",
        "    # or zipfile.ZIP_STORED to just store the file\n",
        "    compression = zipfile.ZIP_DEFLATED\n",
        "    # create the zip file first parameter path/name, second mode\n",
        "    with zipfile.ZipFile(\"result.zip\", mode=\"w\") as zf:\n",
        "        for file_name in file_names:\n",
        "            # Add file to the zip file\n",
        "            # first parameter file to zip, second filename in zip\n",
        "            zf.write('./' + file_name, file_name, compress_type=compression)\n",
        "\n",
        "file_names = [\"fig\", \"retention_rate.ipynb\"]\n",
        "compress(file_names)"
      ],
      "outputs": [],
      "metadata": {
        "id": "WmzmnyzkhCnq",
        "outputId": "fd56b1fc-0200-42ab-fdc6-4f17aa81ac5d"
      }
    }
  ]
}