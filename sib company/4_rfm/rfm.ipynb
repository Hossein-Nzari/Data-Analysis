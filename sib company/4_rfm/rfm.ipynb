{
 "cells": [
  {
   "cell_type": "markdown",
   "id": "dbd55073",
   "metadata": {},
   "source": [
    "<h1 align=center style=\"line-height:200%;font-family:vazir;color:#0099cc\">\n",
    "<font face=\"vazir\" color=\"#0099cc\">\n",
    "ارزش‌گذاری مشتریان\n",
    "</font>\n",
    "</h1>"
   ]
  },
  {
   "cell_type": "markdown",
   "id": "2780ee4b",
   "metadata": {
    "id": "2780ee4b"
   },
   "source": [
    "<h2 align=right style=\"line-height:200%;font-family:vazir;color:#0099cc\">\n",
    "<font face=\"vazir\" color=\"#0099cc\">\n",
    "    توضیحات اولیه\n",
    "</font>\n",
    "</h2>\n",
    "\n",
    "<p dir=rtl style=\"direction: rtl;text-align: right;line-height:200%;font-family:vazir;font-size:medium\">\n",
    "<font>\n",
    "    در ادامه امور مربوط به بازاریابی، شما بایستی که اقدام به گروه‌بندی مشتریان بر اساس ارزش ‌آنها برای شرکت <i>«سیب»</i> بکنید. بدین منظور از روش معروف حوزه تحلیل رفتار مشتری با نام <a href=\"https://en.wikipedia.org/wiki/RFM_(market_research)\">RFM</a> استفاده خواهید کرد. طبق این روش، سه معیار زیر برای هر مشتری مد‌نظر قرار می‌گیرد.\n",
    "</font>\n",
    "</p>\n",
    "\n",
    "\n",
    "<div dir=rtl style=\"direction: rtl;text-align: right;line-height:200%;font-family:vazir;font-size:medium\">\n",
    "<font>\n",
    "    <ul>\n",
    "        <li>\n",
    "            معیار Recency (ماندگاری) : تعداد روزی که از آخرین خرید مشتری می‌گذرد.\n",
    "        </li>\n",
    "        <li>\n",
    "            معیار Frequency (فرکانس) : تعداد دفعاتی که مشتری از ما خرید کرده‌است.\n",
    "        </li>\n",
    "        <li>\n",
    "            معیار Monetary value (ارزش مالی) : مجموع درآمدی که شرکت از یک مشتری داشته‌است.\n",
    "        </li>\n",
    "    </ul>\n",
    "</font>\n",
    "</div>\n",
    "\n",
    "\n",
    "<p dir=rtl style=\"direction: rtl;text-align: right;line-height:200%;font-family:vazir;font-size:medium\">\n",
    "<font> \n",
    "این معیارها، نشانگر شاخص‌های مهمی در رفتار مشتریان می‌باشند. به عنوان مثال، هرچه خرید جدیدتر صورت گرفته‌باشد، احتمال این که مشتری دوباره خرید کند، افزایش می‌یابد. هرچه مشتری تعداد دفعات بیشتری خرید کند یعنی مشتری رضایت بیشتری دارد و میزان درآمدی که یک مشتری برای شرکت تولید می کند، می‌تواند او را از خریداران دیگر متمایز کند.\n",
    "    <br>\n",
    "    در این مرحله، شما بایستی که برای هر مشتری (<code>CustomerId</code>)، این سه معیار را محاسبه کنید.\n",
    "    <br>\n",
    "    <font color=\"red\">*</font>\n",
    "    توجه داشته باشید که برای محاسبه معیار Recency، تعداد روز گذشته نسبت به یک روز بعد از آخرین روز موجود در دادگان را محاسبه کنید (با این فرض که شما در آن روز، در حال انجام این مرحله هستید).\n",
    "    <br>\n",
    "    بعد از محاسبه این سه معیار، مقدار (value‍‍) هر معیار را بر اساس چارک اول، دوم و سوم به شکل زیر به ۴ گروه تقسیم کنید.\n",
    "</font>\n",
    "</p>\n",
    "\n",
    "<div dir=rtl style=\"direction: ltr;text-align: left;line-height:200%;font-family:vazir;font-size:medium\">\n",
    "<font>\n",
    "    <ul>\n",
    "        <li><b>Group1</b>: value <= Q1</li>\n",
    "        <li><b>Group2</b>: Q1 &lt; value <= Q2</li>\n",
    "        <li><b>Group3</b>: Q2 &lt; value <= Q3</li>\n",
    "        <li><b>Group4</b>: Q3 &lt; value</li>\n",
    "    </ul>\n",
    "</font>\n",
    "</div>\n",
    "\n",
    "\n",
    "\n",
    "<p dir=rtl style=\"direction: rtl;text-align: right;line-height:200%;font-family:vazir;font-size:medium\">\n",
    "<font> \n",
    "    برای یادآوری مفهوم چارک،\n",
    "    <a href=\"https://fa.wikipedia.org/wiki/%DA%86%D8%A7%D8%B1%DA%A9_(%D8%A2%D9%85%D8%A7%D8%B1)\">این مطلب</a>\n",
    "    را از ویکی‌پدیای فارسی بخوانید.\n",
    "    <br>\n",
    "    با استفاده از این سه معیار، ارزش هر مشتری (معیار RFM)، با کنار هم قرار دادن گروه‌های Recency-Frequency-Monetary value محاسبه می‌گردد. به عنوان مثال، به نمونه‌های زیر نگاه کنید.\n",
    "</font>\n",
    "</p>\n",
    "\n",
    "\n",
    "<div dir=rtl style=\"direction: ltr;text-align: left;line-height:200%;font-family:vazir;font-size:medium\">\n",
    "<font>\n",
    "    \n",
    "| CustomerID | Recency | Frequency | Monetary_value| R_quartile      | F_quartile      | M_quartile      | RFM    |\n",
    "| ---------- | ------- | --------- | -------- | ------ | ------ | ------ | ------ |\n",
    "| 12346      | 165     | 11        | 372.86   | 4      | 4      | 2      | 442    |\n",
    "| 12347      | 3       | 2         | 1323.32  | 1      | 2      | 3      | 123    |\n",
    "| 12348      | 74      | 1         | 222.16   | 3      | 1      | 1      | 311    |\n",
    "\n",
    "</font>\n",
    "</div>\n",
    "\n",
    "\n",
    "<p dir=rtl style=\"direction: rtl;text-align: right;line-height:200%;font-family:vazir;font-size:medium\">\n",
    "<font> \n",
    "    مشتری با شناسه ۱۲۳۴۶، ماندگاری برابر با ۱۶۵ داشته است. عدد ۱۶۵ بزرگ‌تر از چارک سوم ماندگاری‌ها بوده‌است. (در این جدول ما نمی‌دانیم چارک‌ها چه مقداری داشته‌اند. چیزی که برای ما حائز اهمیت است، آن است که بتوانیم گروهی که ماندگاری این مشتری به آن تعلق دارد را شناسایی کنیم.)\n",
    "    <br>\n",
    "    چون از چارک سوم بزرگ‌تر بوده‌است، طبق <b>Group4</b>: Q3 &lt; value ، برای ماندگاری این مشتری عدد ۴ را در نظر می‌گیریم (زیرا به گروه چهارم تعلق دارد.)\n",
    "<br>\n",
    "    برای دو معیار دیگر یعنی فرکانس و ارزش مالی (Frequency و Monetary value) نیز طبق بالا عمل می‌کنیم تا گروه آن‌ها را به دست بیاوریم.\n",
    "    <br>\n",
    "       حال می‌توانیم شماره گروه هر سه معیار را کنار هم‌دیگر بگذاریم تا معیار RFM به‌وجود بیاید.\n",
    "    <br>\n",
    "</font>\n",
    "</p>\n",
    "<p dir=rtl style=\"direction: rtl;text-align: right;line-height:200%;font-family:vazir;font-size:medium\">\n",
    "<font> \n",
    "پس از آن شما می‌توانید هر مشتری را طبق جدول زیر و بر اساس مقدار RFM، گروه‌بندی کنید.\n",
    "</font>\n",
    "</p>\n",
    "\n",
    "\n",
    "\n",
    "<div dir=rtl style=\"direction: ltr;text-align: left;line-height:200%;font-family:vazir;font-size:medium\">\n",
    "<font>\n",
    "    \n",
    "| Segment | RFM |\n",
    "|:-------------:|:------|\n",
    "| Best | 144 |\n",
    "| AlmostLost | 344 |  \n",
    "| LostBigSpenders | 444  | \n",
    "| LostCheap | 441 |\n",
    "| Loyal | X4X | \n",
    "| BigSpenders | XX4 | \n",
    "\n",
    "\n",
    "</font>\n",
    "</div>\n",
    "\n",
    "\n",
    "<p dir=rtl style=\"direction: rtl;text-align: right;line-height:200%;font-family:vazir;font-size:medium\">\n",
    "<font>\n",
    "توجه داشته‌باشید که مقدار X به معنی هر مقدار معتبری می‌باشد. به عنوان مثال، 14X شامل گروه‌های 141, 142, 143, 144 می‌شود. همچنین اگر یک RFM در دو گروه از جدول می‌تواند قرار بگیرد، اولویت با گروهی‌ است که ابتدا (بالاتر) در جدول آمده باشد. در صورتی که یک مشتری در هیچ‌یک از گروه‌های جدول قرار نگرفت، گروه او را <i>Normal</i>‌ اعلام کنید.\n",
    "    <br>\n",
    "در نتیجه، به ازای هر مشتری، تیم بازاریابی می تواند استراتژی متناسب با گروهی‌ که او در آن قرار می‌گیرد، اتخاذ کند.   \n",
    "    <br>\n",
    "    برای هر مشتری، ستون <code>Segment</code> را طبق جدول توضیح داده شده در بالا محاسبه کنید. در آخر دیتافریمی تنها با دو ستون <code>CustomerId</code> و <code>Segment</code> در متغیر <code>df_customer_segments</code> ذخیره کنید.\n",
    "</font>\n",
    "</p>\n",
    "\n"
   ]
  },
  {
   "cell_type": "markdown",
   "id": "ff28bfde",
   "metadata": {},
   "source": [
    "   \n",
    "<h2 align=right style=\"line-height:200%;font-family:vazir;color:#0099cc\">\n",
    "<font face=\"vazir\" color=\"#0099cc\">\n",
    "    کتابخانه‌ها\n",
    "</font>\n",
    "</h2>\n",
    "\n",
    "<p dir=rtl style=\"direction: rtl;text-align: right;line-height:200%;font-family:vazir;font-size:medium\">\n",
    "<font face=\"vazir\" size=3>\n",
    "       ابتدا کتابخانه‌های مورد نیاز خود را اضافه کنید.    \n",
    "</font>\n",
    "</p>"
   ]
  },
  {
   "cell_type": "code",
   "execution_count": 446,
   "id": "4a1c31c4",
   "metadata": {},
   "outputs": [],
   "source": [
    "# import libraries:\n",
    "\n",
    "import pandas as pd\n",
    "from datetime import timedelta"
   ]
  },
  {
   "cell_type": "markdown",
   "id": "76c16791",
   "metadata": {},
   "source": [
    "<h2 align=right style=\"line-height:200%;font-family:vazir;color:#0099cc\">\n",
    "<font face=\"vazir\" color=\"#0099cc\">\n",
    "    خواندن مجموعه داده\n",
    "</font>\n",
    "</h2>\n",
    "\n",
    "<p dir=rtl style=\"direction: rtl;text-align: right;line-height:200%;font-family:vazir;font-size:medium\">\n",
    "<font face=\"vazir\" size=3>\n",
    "    فایل پیش‌پردازش‌شده را بخوانید.\n",
    "</font>\n",
    "</p>"
   ]
  },
  {
   "cell_type": "code",
   "execution_count": 447,
   "id": "b0ad0cab",
   "metadata": {},
   "outputs": [],
   "source": [
    "# read the preprocessed dataset:\n",
    "\n",
    "df = pd.read_csv(\"../1_preprocessing/preprocessed_sales.csv\")"
   ]
  },
  {
   "cell_type": "markdown",
   "id": "8d09f90e",
   "metadata": {},
   "source": [
    "<p dir=rtl style=\"direction: rtl;text-align: right;line-height:200%;font-family:vazir;font-size:medium\">\n",
    "<font face=\"vazir\" size=3>\n",
    "معیارهای Frequency، Recency و Monetary value را به ازای هر مشتری محاسبه کنید و دیتافریم <code>df_customer_segments</code> را مقداردهی کنید.\n",
    "</font>\n",
    "</p>"
   ]
  },
  {
   "cell_type": "code",
   "execution_count": 448,
   "id": "08ecb403",
   "metadata": {},
   "outputs": [],
   "source": [
    "#first column\n",
    "\n",
    "new_df = pd.DataFrame(df[\"CustomerId\"])"
   ]
  },
  {
   "cell_type": "code",
   "execution_count": 449,
   "id": "d4fd107a",
   "metadata": {},
   "outputs": [],
   "source": [
    "#second column\n",
    "\n",
    "df[\"InvoiceDate\"] = pd.to_datetime(df[\"InvoiceDate\"])\n",
    "\n",
    "reference_time = df[\"InvoiceDate\"].max() + timedelta(days=1)\n",
    "reference_time = reference_time.to_pydatetime()\n",
    "new_df = pd.merge(new_df, pd.DataFrame((reference_time - df.groupby(\"CustomerId\")[\"InvoiceDate\"].max()).dt.days), left_on=\"CustomerId\", right_index=True)"
   ]
  },
  {
   "cell_type": "code",
   "execution_count": 450,
   "id": "e0e2b36c",
   "metadata": {},
   "outputs": [],
   "source": [
    "#third column\n",
    "\n",
    "new_df = pd.merge(new_df, df.drop_duplicates(subset=\"InvoiceNumber\").groupby(\"CustomerId\")[\"InvoiceNumber\"].count(), left_on=\"CustomerId\", right_index=True)\n",
    "new_df.rename(columns={\"InvoiceNumber\" : \"Frequency\", \"InvoiceDate\" : \"Recency\"}, inplace=True)"
   ]
  },
  {
   "cell_type": "code",
   "execution_count": 451,
   "id": "dafb9b5d",
   "metadata": {},
   "outputs": [],
   "source": [
    "#forth column\n",
    "\n",
    "df[\"Monetary_value\"] = df[\"UnitPrice\"] * df[\"Quantity\"]\n",
    "new_df = pd.merge(new_df, df.groupby(\"CustomerId\")[\"Monetary_value\"].sum(), left_on=\"CustomerId\", right_index=True)"
   ]
  },
  {
   "cell_type": "code",
   "execution_count": 454,
   "id": "b69fd432",
   "metadata": {},
   "outputs": [],
   "source": [
    "#quantiles\n",
    "\n",
    "RQ1 = new_df.drop_duplicates(subset=\"CustomerId\")[\"Recency\"].quantile(0.25)\n",
    "RQ2 = new_df.drop_duplicates(subset=\"CustomerId\")[\"Recency\"].quantile(0.50)\n",
    "RQ3 = new_df.drop_duplicates(subset=\"CustomerId\")[\"Recency\"].quantile(0.75)\n",
    "\n",
    "FQ1 = new_df.drop_duplicates(subset=\"CustomerId\")[\"Frequency\"].quantile(0.25)\n",
    "FQ2 = new_df.drop_duplicates(subset=\"CustomerId\")[\"Frequency\"].quantile(0.50)\n",
    "FQ3 = new_df.drop_duplicates(subset=\"CustomerId\")[\"Frequency\"].quantile(0.75)\n",
    "\n",
    "MQ1 = new_df.drop_duplicates(subset=\"CustomerId\")[\"Monetary_value\"].quantile(0.25)\n",
    "MQ2 = new_df.drop_duplicates(subset=\"CustomerId\")[\"Monetary_value\"].quantile(0.50)\n",
    "MQ3 = new_df.drop_duplicates(subset=\"CustomerId\")[\"Monetary_value\"].quantile(0.75)"
   ]
  },
  {
   "cell_type": "code",
   "execution_count": 455,
   "id": "3f625a10",
   "metadata": {},
   "outputs": [],
   "source": [
    "#quantile function\n",
    "\n",
    "def quartile(number, q1, q2, q3):\n",
    "    if number <= q1:\n",
    "        return 1\n",
    "    elif number > q1 and number <= q2:\n",
    "        return 2\n",
    "    elif number > q2 and number <= q3:\n",
    "        return 3\n",
    "    else: return 4"
   ]
  },
  {
   "cell_type": "code",
   "execution_count": 456,
   "id": "e1f588e6",
   "metadata": {},
   "outputs": [],
   "source": [
    "#column 5, 6, 7\n",
    "\n",
    "new_df[\"R_quartile\"] = new_df[\"Recency\"].apply(lambda x : quartile(x, RQ1, RQ2, RQ3))\n",
    "new_df[\"F_quartile\"] = new_df[\"Frequency\"].apply(lambda x : quartile(x, FQ1, FQ2, FQ3))\n",
    "new_df[\"M_quartile\"] = new_df[\"Monetary_value\"].apply(lambda x : quartile(x, MQ1, MQ2, MQ3))"
   ]
  },
  {
   "cell_type": "code",
   "execution_count": 457,
   "id": "8e70ae1a",
   "metadata": {},
   "outputs": [],
   "source": [
    "#column 8\n",
    "\n",
    "new_df[\"RFM\"] = (new_df[\"R_quartile\"].astype(str) + new_df[\"F_quartile\"].astype(str) + new_df[\"M_quartile\"].astype(str))"
   ]
  },
  {
   "cell_type": "code",
   "execution_count": 458,
   "id": "68bd919b",
   "metadata": {},
   "outputs": [],
   "source": [
    "#drop duplication\n",
    "\n",
    "new_df = new_df.drop_duplicates(subset=\"CustomerId\")"
   ]
  },
  {
   "cell_type": "code",
   "execution_count": 459,
   "id": "80286956",
   "metadata": {},
   "outputs": [
    {
     "data": {
      "text/plain": [
       "array(['Normal', 'Best', 'BigSpenders', 'LostBigSpenders', 'Loyal',\n",
       "       'AlmostLost'], dtype=object)"
      ]
     },
     "execution_count": 459,
     "metadata": {},
     "output_type": "execute_result"
    }
   ],
   "source": [
    "df_customer_segments.Segment.unique()"
   ]
  },
  {
   "cell_type": "code",
   "execution_count": 460,
   "id": "73e477f0",
   "metadata": {},
   "outputs": [],
   "source": [
    "#def segment\n",
    "\n",
    "def segment(rfm):\n",
    "    if rfm == \"144\":\n",
    "        return \"Best\"\n",
    "    elif rfm == \"344\":\n",
    "        return \"AlmostLost\"\n",
    "    elif rfm == \"444\":\n",
    "        return \"LostBigSpenders\"\n",
    "    elif rfm == \"441\":\n",
    "        return \"LostCheap\"\n",
    "    elif rfm[1] == \"4\":\n",
    "        return \"Loyal\"\n",
    "    elif rfm[2] == \"4\":\n",
    "        return \"BigSpenders\"\n",
    "    else: return \"Normal\""
   ]
  },
  {
   "cell_type": "code",
   "execution_count": 461,
   "id": "1738e81a",
   "metadata": {},
   "outputs": [
    {
     "name": "stderr",
     "output_type": "stream",
     "text": [
      "C:\\Users\\asus\\AppData\\Local\\Temp\\ipykernel_11352\\8399310.py:3: SettingWithCopyWarning: \n",
      "A value is trying to be set on a copy of a slice from a DataFrame.\n",
      "Try using .loc[row_indexer,col_indexer] = value instead\n",
      "\n",
      "See the caveats in the documentation: https://pandas.pydata.org/pandas-docs/stable/user_guide/indexing.html#returning-a-view-versus-a-copy\n",
      "  new_df[\"Segment\"] = new_df[\"RFM\"].apply(lambda x : segment(x))\n"
     ]
    }
   ],
   "source": [
    "#segment column\n",
    "\n",
    "new_df[\"Segment\"] = new_df[\"RFM\"].apply(lambda x : segment(x))"
   ]
  },
  {
   "cell_type": "code",
   "execution_count": 462,
   "id": "f9c5e314",
   "metadata": {},
   "outputs": [
    {
     "data": {
      "text/html": [
       "<div>\n",
       "<style scoped>\n",
       "    .dataframe tbody tr th:only-of-type {\n",
       "        vertical-align: middle;\n",
       "    }\n",
       "\n",
       "    .dataframe tbody tr th {\n",
       "        vertical-align: top;\n",
       "    }\n",
       "\n",
       "    .dataframe thead th {\n",
       "        text-align: right;\n",
       "    }\n",
       "</style>\n",
       "<table border=\"1\" class=\"dataframe\">\n",
       "  <thead>\n",
       "    <tr style=\"text-align: right;\">\n",
       "      <th></th>\n",
       "      <th>CustomerId</th>\n",
       "      <th>Segment</th>\n",
       "    </tr>\n",
       "  </thead>\n",
       "  <tbody>\n",
       "    <tr>\n",
       "      <th>0</th>\n",
       "      <td>13085</td>\n",
       "      <td>LostBigSpenders</td>\n",
       "    </tr>\n",
       "    <tr>\n",
       "      <th>12</th>\n",
       "      <td>13078</td>\n",
       "      <td>Best</td>\n",
       "    </tr>\n",
       "    <tr>\n",
       "      <th>31</th>\n",
       "      <td>15362</td>\n",
       "      <td>Normal</td>\n",
       "    </tr>\n",
       "    <tr>\n",
       "      <th>54</th>\n",
       "      <td>18102</td>\n",
       "      <td>Best</td>\n",
       "    </tr>\n",
       "    <tr>\n",
       "      <th>71</th>\n",
       "      <td>12682</td>\n",
       "      <td>Best</td>\n",
       "    </tr>\n",
       "    <tr>\n",
       "      <th>...</th>\n",
       "      <td>...</td>\n",
       "      <td>...</td>\n",
       "    </tr>\n",
       "    <tr>\n",
       "      <th>398480</th>\n",
       "      <td>18269</td>\n",
       "      <td>Normal</td>\n",
       "    </tr>\n",
       "    <tr>\n",
       "      <th>398712</th>\n",
       "      <td>13270</td>\n",
       "      <td>Normal</td>\n",
       "    </tr>\n",
       "    <tr>\n",
       "      <th>399228</th>\n",
       "      <td>12942</td>\n",
       "      <td>Normal</td>\n",
       "    </tr>\n",
       "    <tr>\n",
       "      <th>399500</th>\n",
       "      <td>13369</td>\n",
       "      <td>Normal</td>\n",
       "    </tr>\n",
       "    <tr>\n",
       "      <th>400562</th>\n",
       "      <td>15211</td>\n",
       "      <td>Normal</td>\n",
       "    </tr>\n",
       "  </tbody>\n",
       "</table>\n",
       "<p>4312 rows × 2 columns</p>\n",
       "</div>"
      ],
      "text/plain": [
       "        CustomerId          Segment\n",
       "0            13085  LostBigSpenders\n",
       "12           13078             Best\n",
       "31           15362           Normal\n",
       "54           18102             Best\n",
       "71           12682             Best\n",
       "...            ...              ...\n",
       "398480       18269           Normal\n",
       "398712       13270           Normal\n",
       "399228       12942           Normal\n",
       "399500       13369           Normal\n",
       "400562       15211           Normal\n",
       "\n",
       "[4312 rows x 2 columns]"
      ]
     },
     "execution_count": 462,
     "metadata": {},
     "output_type": "execute_result"
    }
   ],
   "source": [
    "#final df\n",
    "\n",
    "df_customer_segments = pd.concat([new_df[\"CustomerId\"], new_df[\"Segment\"]], axis=1)\n",
    "df_customer_segments"
   ]
  },
  {
   "cell_type": "markdown",
   "id": "121d3f7d",
   "metadata": {},
   "source": [
    "<h2 align=right style=\"line-height:200%;font-family:vazir;color:#0099cc\">\n",
    "<font face=\"vazir\" color=\"#0099cc\">\n",
    "سلول جواب‌ساز    \n",
    "</font>\n",
    "</h2>\n"
   ]
  },
  {
   "cell_type": "code",
   "execution_count": 467,
   "id": "92401efc",
   "metadata": {},
   "outputs": [
    {
     "name": "stdout",
     "output_type": "stream",
     "text": [
      "File Paths:\n",
      "['df_customer_segments.csv', 'rfm.ipynb']\n"
     ]
    }
   ],
   "source": [
    "# export your results\n",
    "\n",
    "import zipfile\n",
    "import joblib\n",
    "\n",
    "df_customer_segments.to_csv('./df_customer_segments.csv', index=False)\n",
    "\n",
    "def compress(file_names):\n",
    "    print(\"File Paths:\")\n",
    "    print(file_names)\n",
    "    # Select the compression mode ZIP_DEFLATED for compression\n",
    "    # or zipfile.ZIP_STORED to just store the file\n",
    "    compression = zipfile.ZIP_DEFLATED\n",
    "    # create the zip file first parameter path/name, second mode\n",
    "    with zipfile.ZipFile(\"result.zip\", mode=\"w\") as zf:\n",
    "        for file_name in file_names:\n",
    "            # Add file to the zip file\n",
    "            # first parameter file to zip, second filename in zip\n",
    "            zf.write('./' + file_name, file_name, compress_type=compression)\n",
    "\n",
    "file_names = [\"df_customer_segments.csv\", \"rfm.ipynb\"]\n",
    "compress(file_names)"
   ]
  },
  {
   "cell_type": "code",
   "execution_count": null,
   "id": "6eb53b50",
   "metadata": {},
   "outputs": [],
   "source": []
  }
 ],
 "metadata": {
  "kernelspec": {
   "display_name": "Python 3.8.0 ('qenv')",
   "language": "python",
   "name": "python3"
  },
  "language_info": {
   "codemirror_mode": {
    "name": "ipython",
    "version": 3
   },
   "file_extension": ".py",
   "mimetype": "text/x-python",
   "name": "python",
   "nbconvert_exporter": "python",
   "pygments_lexer": "ipython3",
   "version": "3.8.0"
  },
  "vscode": {
   "interpreter": {
    "hash": "800875f8f0f937294d86d60837982cbcbc4eef87d6daae05d21b5c7802256f6e"
   }
  }
 },
 "nbformat": 4,
 "nbformat_minor": 5
}
